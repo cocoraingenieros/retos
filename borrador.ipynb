{
 "metadata": {
  "language_info": {
   "codemirror_mode": {
    "name": "ipython",
    "version": 3
   },
   "file_extension": ".py",
   "mimetype": "text/x-python",
   "name": "python",
   "nbconvert_exporter": "python",
   "pygments_lexer": "ipython3",
   "version": 3
  },
  "orig_nbformat": 4
 },
 "nbformat": 4,
 "nbformat_minor": 2,
 "cells": [
  {
   "cell_type": "code",
   "execution_count": null,
   "metadata": {},
   "outputs": [],
   "source": [
    "revisar            uml   diagramas para documentacion de software\n",
    "descargar          app.diagrams.net"
   ]
  },
  {
   "cell_type": "code",
   "execution_count": null,
   "metadata": {},
   "outputs": [],
   "source": [
    "SQL                    el diseño basico desde 1.50 clase 7\n",
    "instalamos xampp de apachefriends version 7.4  esto es php\n"
   ]
  },
  {
   "cell_type": "code",
   "execution_count": null,
   "metadata": {},
   "outputs": [],
   "source": [
    "pagina para diagramas\n",
    "diagrams.net"
   ]
  },
  {
   "cell_type": "code",
   "execution_count": null,
   "metadata": {},
   "outputs": [],
   "source": [
    "# java extension pack   extension instalada en el vsc "
   ]
  },
  {
   "cell_type": "code",
   "execution_count": null,
   "metadata": {},
   "outputs": [],
   "source": [
    "git init \n",
    "git remote add origin\"url\"\n",
    "git add .\n",
    "git commit -m       #sirve para dejar un mensaje\n",
    "git push -u origin master\n",
    "git remote\n",
    "\n",
    "git status\n"
   ]
  },
  {
   "cell_type": "code",
   "execution_count": null,
   "metadata": {},
   "outputs": [],
   "source": [
    "main         #es similar al entry point de python\n",
    "public       le dice a java cual es el nivel de accecibilidad que tiene el elemento\n",
    "private      es para hacer referencia a un dato unico de un objeto\n",
    "char         es un tipo de dato que guarda unicamente un caracter\n",
    "holaMundo    camel case, en nombres compuestos la segunda palabra inicia en mayucsula\n",
    "/**      para hacer comentarios"
   ]
  },
  {
   "cell_type": "code",
   "execution_count": null,
   "metadata": {},
   "outputs": [],
   "source": [
    "al terminar una modificacion\n",
    "git add .\n",
    "git commit -m \"mensaje a enviar\"\n",
    "git push origin master"
   ]
  },
  {
   "cell_type": "code",
   "execution_count": null,
   "metadata": {},
   "outputs": [],
   "source": [
    "public static void main(String[] args){       # se escribe    main + enter y autocompleta la funcion\n",
    "              \n",
    "System.out.println();                         # se escribe    syso + enter y me llama la funcion imprimir\n"
   ]
  },
  {
   "cell_type": "code",
   "execution_count": null,
   "metadata": {},
   "outputs": [],
   "source": [
    "el repositorio git hub en la clase del 06 07 a las dos y media \n",
    "\n",
    "aceptar invitacion\n",
    "copiar url del proyecto\n",
    "en la carpeta del archivo click derecho y seleccionar *git bash her\n",
    "en la consola   \n",
    "    *git clone (url)\n",
    "    *cd (nombre de la carpeta nueva)\n",
    "    *git checkout -b (cocoraingenieros)\n",
    "    *git add .\n",
    "    *git commit -m \"NombreRama cocoraingenieros\"\n",
    "    *git config user.email \"miguel.rubio@ingenieros.com\"\n",
    "    git push origin cocoraingenieros\n",
    "\n"
   ]
  }
 ]
}